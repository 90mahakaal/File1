{
 "cells": [
  {
   "cell_type": "code",
   "execution_count": 2,
   "id": "827a1121",
   "metadata": {},
   "outputs": [
    {
     "name": "stdout",
     "output_type": "stream",
     "text": [
      "Requirement already satisfied: selenium in c:\\users\\dell\\anaconda3\\lib\\site-packages (4.18.1)\n",
      "Requirement already satisfied: urllib3[socks]<3,>=1.26 in c:\\users\\dell\\anaconda3\\lib\\site-packages (from selenium) (1.26.16)\n",
      "Requirement already satisfied: trio~=0.17 in c:\\users\\dell\\anaconda3\\lib\\site-packages (from selenium) (0.24.0)\n",
      "Requirement already satisfied: trio-websocket~=0.9 in c:\\users\\dell\\anaconda3\\lib\\site-packages (from selenium) (0.11.1)\n",
      "Requirement already satisfied: certifi>=2021.10.8 in c:\\users\\dell\\anaconda3\\lib\\site-packages (from selenium) (2023.7.22)\n",
      "Requirement already satisfied: typing_extensions>=4.9.0 in c:\\users\\dell\\anaconda3\\lib\\site-packages (from selenium) (4.10.0)\n",
      "Requirement already satisfied: attrs>=20.1.0 in c:\\users\\dell\\anaconda3\\lib\\site-packages (from trio~=0.17->selenium) (22.1.0)\n",
      "Requirement already satisfied: sortedcontainers in c:\\users\\dell\\anaconda3\\lib\\site-packages (from trio~=0.17->selenium) (2.4.0)\n",
      "Requirement already satisfied: idna in c:\\users\\dell\\anaconda3\\lib\\site-packages (from trio~=0.17->selenium) (3.4)\n",
      "Requirement already satisfied: outcome in c:\\users\\dell\\anaconda3\\lib\\site-packages (from trio~=0.17->selenium) (1.3.0.post0)\n",
      "Requirement already satisfied: sniffio>=1.3.0 in c:\\users\\dell\\anaconda3\\lib\\site-packages (from trio~=0.17->selenium) (1.3.1)\n",
      "Requirement already satisfied: cffi>=1.14 in c:\\users\\dell\\anaconda3\\lib\\site-packages (from trio~=0.17->selenium) (1.15.1)\n",
      "Requirement already satisfied: wsproto>=0.14 in c:\\users\\dell\\anaconda3\\lib\\site-packages (from trio-websocket~=0.9->selenium) (1.2.0)\n",
      "Requirement already satisfied: PySocks!=1.5.7,<2.0,>=1.5.6 in c:\\users\\dell\\anaconda3\\lib\\site-packages (from urllib3[socks]<3,>=1.26->selenium) (1.7.1)\n",
      "Requirement already satisfied: pycparser in c:\\users\\dell\\anaconda3\\lib\\site-packages (from cffi>=1.14->trio~=0.17->selenium) (2.21)\n",
      "Requirement already satisfied: h11<1,>=0.9.0 in c:\\users\\dell\\anaconda3\\lib\\site-packages (from wsproto>=0.14->trio-websocket~=0.9->selenium) (0.14.0)\n",
      "Note: you may need to restart the kernel to use updated packages.\n"
     ]
    }
   ],
   "source": [
    "pip install selenium"
   ]
  },
  {
   "cell_type": "code",
   "execution_count": 3,
   "id": "1ebdfc1f",
   "metadata": {},
   "outputs": [],
   "source": [
    "import pandas as pd\n",
    "import selenium\n",
    "from selenium import webdriver\n",
    "import warnings\n",
    "warnings.filterwarnings('ignore')\n",
    "from selenium.webdriver.common.by import By\n",
    "import time"
   ]
  },
  {
   "cell_type": "markdown",
   "id": "3b59f4d9",
   "metadata": {},
   "source": [
    "# Q.1"
   ]
  },
  {
   "cell_type": "code",
   "execution_count": null,
   "id": "7bc2e981",
   "metadata": {},
   "outputs": [],
   "source": [
    "driver=webdriver.Edge()"
   ]
  },
  {
   "cell_type": "code",
   "execution_count": null,
   "id": "940c9138",
   "metadata": {},
   "outputs": [],
   "source": [
    "# opening site\n",
    "driver.get('https://www.naukri.com./')"
   ]
  },
  {
   "cell_type": "code",
   "execution_count": null,
   "id": "025bcb44",
   "metadata": {},
   "outputs": [],
   "source": [
    "# entering designation and loc asked by the quastion\n",
    "desig=driver.find_element(By.CLASS_NAME,\"suggestor-input\")\n",
    "desig.send_keys('Data Scientist')"
   ]
  },
  {
   "cell_type": "code",
   "execution_count": null,
   "id": "3b825996",
   "metadata": {},
   "outputs": [],
   "source": [
    "loc= driver.find_element(By.XPATH,'/html/body/div/div[7]/div/div/div[5]/div/div/div/div[1]/div/input' )\n",
    "loc.send_keys('Delhi/NCR')"
   ]
  },
  {
   "cell_type": "code",
   "execution_count": null,
   "id": "d56d119b",
   "metadata": {},
   "outputs": [],
   "source": [
    "search=driver.find_element(By.CLASS_NAME,\"qsbSubmit\")\n",
    "search.click()"
   ]
  },
  {
   "cell_type": "code",
   "execution_count": null,
   "id": "3757ef82",
   "metadata": {},
   "outputs": [],
   "source": [
    "job_title=[]\n",
    "job_loc=[]\n",
    "comp_name=[]\n",
    "exp_req=[]"
   ]
  },
  {
   "cell_type": "code",
   "execution_count": null,
   "id": "bd831842",
   "metadata": {},
   "outputs": [],
   "source": [
    "# Locate the elements containing the company names\n",
    "company_elements = driver.find_elements(By.XPATH, '//a[@class=\"title \"]')\n",
    "\n",
    "# Extract the company names\n",
    "top_10_companies = [element.text for element in company_elements[:10]]  # Extract top 10 companies\n",
    "\n",
    "# Print or process the extracted company names\n",
    "for company in top_10_companies:\n",
    "    print(company)\n",
    "\n",
    "# Close the WebDriver\n",
    "driver.quit()\n"
   ]
  },
  {
   "cell_type": "code",
   "execution_count": null,
   "id": "82356e86",
   "metadata": {},
   "outputs": [],
   "source": [
    "# scarping job title form the given page\n",
    "title_tags=driver.find_elements(By.XPATH,'//a[@class=\"title \"]')[:20]\n",
    "for i in title_tags:\n",
    "    title=i.text\n",
    "    job_title.append(title)\n",
    "\n",
    "# scarping job loc form the given page\n",
    "loc_tags=driver.find_elements(By.XPATH,'[class=\"ni-job-tuple-icon ni-job-tuple-icon-srp-location loc\"]')[:20]\n",
    "for i in loc_tags:\n",
    "    loc=i.text\n",
    "    job_loc.append(loc)\n",
    "    \n",
    "# scarping comp name form the given page\n",
    "comp_tags=driver.find_elements(By.XPATH,'//span[@class=\" comp-dtls-wrap\"]')[:20]\n",
    "for i in comp_tags:\n",
    "    comp=i.text\n",
    "    comp_name.append(comp)\n",
    "    \n",
    "# scarping exp form the given page\n",
    "exp_tags=driver.find_elements(By.XPATH,'//span[@class=\"ni-job-tuple-icon ni-job-tuple-icon-srp-experience exp\"]')[:20]\n",
    "for i in exp_tags:\n",
    "    exp=i.text\n",
    "    exp_req.append(exp)"
   ]
  },
  {
   "cell_type": "code",
   "execution_count": null,
   "id": "949d2dc6",
   "metadata": {},
   "outputs": [],
   "source": [
    "print(len(job_title),len(job_loc),len(comp_name), len(exp_req))"
   ]
  },
  {
   "cell_type": "code",
   "execution_count": null,
   "id": "7ec54b2c",
   "metadata": {},
   "outputs": [],
   "source": [
    "import pandas as pd\n",
    "df= pd.DataFrame({'Title': job_title,'Location':job_loc, 'Company Name': comp_name})\n",
    "df"
   ]
  },
  {
   "cell_type": "markdown",
   "id": "2ce5558c",
   "metadata": {},
   "source": [
    "## Q2"
   ]
  },
  {
   "cell_type": "code",
   "execution_count": 4,
   "id": "dbf12248",
   "metadata": {},
   "outputs": [],
   "source": [
    "driver=webdriver.Edge()"
   ]
  },
  {
   "cell_type": "code",
   "execution_count": 5,
   "id": "e23700d4",
   "metadata": {},
   "outputs": [],
   "source": [
    "# Open the webpage\n",
    "driver.get(' https://www.shine.com/')"
   ]
  },
  {
   "cell_type": "code",
   "execution_count": 7,
   "id": "a92fba08",
   "metadata": {},
   "outputs": [],
   "source": [
    "# entering designation and loc asked by the quastion\n",
    "desig=driver.find_element(By.XPATH,'/html/body/div/div[4]/div/div[2]/div[2]/div/form/div/div[1]/ul/li[1]/div/input' )\n",
    "desig.send_keys('Data Scientist')"
   ]
  },
  {
   "cell_type": "code",
   "execution_count": 8,
   "id": "15bb1dd9",
   "metadata": {},
   "outputs": [],
   "source": [
    "loc= driver.find_element(By.XPATH,'/html/body/div/div[4]/div/div[2]/div[2]/div/form/div/div[1]/ul/li[2]/div/input' )\n",
    "loc.send_keys('Bangalore')"
   ]
  },
  {
   "cell_type": "code",
   "execution_count": 10,
   "id": "7f0bd4bc",
   "metadata": {},
   "outputs": [],
   "source": [
    "search=driver.find_element(By.XPATH,'/html/body/div/div[4]/div/div[2]/div[2]/div/form/div/div[2]/div/button')\n",
    "search.click()"
   ]
  },
  {
   "cell_type": "code",
   "execution_count": 11,
   "id": "5d50ecdc",
   "metadata": {},
   "outputs": [],
   "source": [
    "job_title=[]\n",
    "job_loc=[]\n",
    "comp_name=[]\n",
    "exp_req=[]"
   ]
  },
  {
   "cell_type": "code",
   "execution_count": null,
   "id": "fc5f3faa",
   "metadata": {},
   "outputs": [],
   "source": [
    "# scarping job title form the given page\n",
    "title_tags=driver.find_elements(By.XPATH,'[class=\"jobCard_pReplaceH2__xWmHg\"]')[:10]\n",
    "for i in title_tags:\n",
    "    title=i.text\n",
    "    job_title.append(title)\n",
    "\n",
    "# scarping job loc form the given page\n",
    "loc_tags=driver.find_elements(By.XPATH,'[class=\" jobCard_jobCard_lists_item__YxRkV jobCard_locationIcon__zrWt2\"]')[:10]\n",
    "for i in loc_tags:\n",
    "    loc=i.text\n",
    "    job_loc.append(loc)\n",
    "    \n",
    "# scarping comp name form the given page\n",
    "comp_tags=driver.find_elements(By.XPATH,'[class=\"jobCard_jobCard_cName__mYnow\"]')[:10]\n",
    "for i in comp_tags:\n",
    "    comp=i.text\n",
    "    comp_name.append(comp)\n",
    "    \n",
    "# scarping exp form the given page\n",
    "exp_tags=driver.find_elements(By.XPATH,'[class=\" jobCard_jobCard_lists_item__YxRkV jobCard_jobIcon__3FB1t\"]')[:10]\n",
    "for i in exp_tags:\n",
    "    exp=i.text\n",
    "    exp_req.append(exp)"
   ]
  },
  {
   "cell_type": "code",
   "execution_count": null,
   "id": "b22f4257",
   "metadata": {},
   "outputs": [],
   "source": [
    "print(len(job_title),len(job_loc),len(comp_name), len(exp_req))"
   ]
  },
  {
   "cell_type": "code",
   "execution_count": null,
   "id": "9ae9ed40",
   "metadata": {},
   "outputs": [],
   "source": [
    "import pandas as pd\n",
    "df= pd.DataFrame({'Title': job_title,'Location':job_loc, 'Company Name': comp_name, 'Exp': exp_req})\n",
    "df"
   ]
  },
  {
   "cell_type": "markdown",
   "id": "42ce36fe",
   "metadata": {},
   "source": [
    "# Q3"
   ]
  },
  {
   "cell_type": "code",
   "execution_count": null,
   "id": "7a2790a4",
   "metadata": {},
   "outputs": [],
   "source": [
    " # Initialize the WebDriver\n",
    "driver = webdriver.Chrome()  # or specify the path to your WebDriver executable\n",
    "\n",
    "# Open the webpage\n",
    "driver.get(\"https://www.flipkart.com/apple-iphone-11-black-64-gb/product\u0002reviews/itm4e5041ba101fd?pid=MOBFWQ6BXGJCEYNY&lid=LSTMOBFWQ6BXGJCEYNYZXSHRJ&marketplace=F\n",
    "LIPKART\")"
   ]
  },
  {
   "cell_type": "markdown",
   "id": "e0e786e6",
   "metadata": {},
   "source": [
    "# Q4"
   ]
  },
  {
   "cell_type": "code",
   "execution_count": null,
   "id": "64d75cce",
   "metadata": {},
   "outputs": [],
   "source": [
    "Q4: Scrape data forfirst 100 sneakers you find whenyouvisitflipkart.com and search for “sneakers” inthe search\n",
    "field."
   ]
  },
  {
   "cell_type": "code",
   "execution_count": 95,
   "id": "11f83eef",
   "metadata": {},
   "outputs": [],
   "source": [
    "import pandas as pd\n",
    "import selenium\n",
    "from selenium import webdriver\n",
    "import warnings\n",
    "warnings.filterwarnings('ignore')\n",
    "from selenium.webdriver.common.by import By\n",
    "import time"
   ]
  },
  {
   "cell_type": "code",
   "execution_count": 96,
   "id": "727c691b",
   "metadata": {},
   "outputs": [],
   "source": [
    "driver=webdriver.Edge()"
   ]
  },
  {
   "cell_type": "code",
   "execution_count": 97,
   "id": "dc5d2ca9",
   "metadata": {},
   "outputs": [],
   "source": [
    "# opening site\n",
    "driver.get(\"https://www.flipkart.com/\")"
   ]
  },
  {
   "cell_type": "code",
   "execution_count": 98,
   "id": "f60dc8ec",
   "metadata": {},
   "outputs": [],
   "source": [
    "# entering designation and loc asked by the quastion\n",
    "desig=driver.find_element(By.CLASS_NAME,\"_3704LK\")\n",
    "desig.send_keys('sneakers')"
   ]
  },
  {
   "cell_type": "code",
   "execution_count": 99,
   "id": "6f2a9334",
   "metadata": {},
   "outputs": [],
   "source": [
    "search=driver.find_element(By.CLASS_NAME,\"L0Z3Pu\")\n",
    "search.click()"
   ]
  },
  {
   "cell_type": "code",
   "execution_count": 100,
   "id": "998ceb95",
   "metadata": {},
   "outputs": [],
   "source": [
    "description=[]\n",
    "brand=[]\n",
    "price=[]"
   ]
  },
  {
   "cell_type": "code",
   "execution_count": null,
   "id": "e9e4d8f4",
   "metadata": {},
   "outputs": [],
   "source": [
    "# scarping job description form the given page\n",
    "descriptions=loc= driver.find_elements(By.XPATH,'//a[@class=\"IRpwTa _2-ICcC\"]')[:100]\n",
    "for i in loc_tags:\n",
    "    loc=i.text\n",
    "    description.append(loc)\n",
    "    \n",
    "# scarping brand form the given page\n",
    "brands=loc= driver.find_elements(By.XPATH,'[class=\"_2WkVRV\"]')[:100]\n",
    "for i in comp_tags:\n",
    "    comp=i.text\n",
    "    brand.append(comp)\n",
    "    \n",
    "# scarping price form the given page\n",
    "prices=loc= driver.find_elements(By.XPATH,'[class=\"_30jeq3\"]')[:100]\n",
    "for i in exp_tags:\n",
    "    exp=i.text\n",
    "    price.append(exp)"
   ]
  },
  {
   "cell_type": "code",
   "execution_count": null,
   "id": "2d07158a",
   "metadata": {},
   "outputs": [],
   "source": [
    "print(len(description),len(brand),len(price))"
   ]
  },
  {
   "cell_type": "code",
   "execution_count": 115,
   "id": "2b2fcbc7",
   "metadata": {},
   "outputs": [],
   "source": [
    "descriptions=loc= driver.find_elements(By.XPATH,'//div[@class=\"_1xHGtK _373qXS\"]')[:100]\n",
    "for i in loc:\n",
    "    loc=i.text\n",
    "    description.append(loc)\n",
    "    "
   ]
  },
  {
   "cell_type": "code",
   "execution_count": 116,
   "id": "b76bd597",
   "metadata": {},
   "outputs": [
    {
     "data": {
      "text/html": [
       "<div>\n",
       "<style scoped>\n",
       "    .dataframe tbody tr th:only-of-type {\n",
       "        vertical-align: middle;\n",
       "    }\n",
       "\n",
       "    .dataframe tbody tr th {\n",
       "        vertical-align: top;\n",
       "    }\n",
       "\n",
       "    .dataframe thead th {\n",
       "        text-align: right;\n",
       "    }\n",
       "</style>\n",
       "<table border=\"1\" class=\"dataframe\">\n",
       "  <thead>\n",
       "    <tr style=\"text-align: right;\">\n",
       "      <th></th>\n",
       "      <th>Description</th>\n",
       "    </tr>\n",
       "  </thead>\n",
       "  <tbody>\n",
       "    <tr>\n",
       "      <th>0</th>\n",
       "      <td>Sponsored\\nEgo by NS\\nSneakers For Men\\n₹291₹9...</td>\n",
       "    </tr>\n",
       "    <tr>\n",
       "      <th>1</th>\n",
       "      <td>Sponsored\\nDeals4you\\nSneakers For Women\\n₹379...</td>\n",
       "    </tr>\n",
       "    <tr>\n",
       "      <th>2</th>\n",
       "      <td>Bestseller\\nURBANBOX\\nTrending Stylish Casual ...</td>\n",
       "    </tr>\n",
       "    <tr>\n",
       "      <th>3</th>\n",
       "      <td>Deals4you\\nSneakers For Women\\n₹379₹99962% off...</td>\n",
       "    </tr>\n",
       "    <tr>\n",
       "      <th>4</th>\n",
       "      <td>RapidBox\\nSneakers For Men\\n₹595₹99940% off\\nF...</td>\n",
       "    </tr>\n",
       "    <tr>\n",
       "      <th>...</th>\n",
       "      <td>...</td>\n",
       "    </tr>\n",
       "    <tr>\n",
       "      <th>75</th>\n",
       "      <td>ORICUM\\nOricum Lightweight Sneakers Outdoor Da...</td>\n",
       "    </tr>\n",
       "    <tr>\n",
       "      <th>76</th>\n",
       "      <td>Sponsored\\nKrors\\nPremium Ankle Length Black D...</td>\n",
       "    </tr>\n",
       "    <tr>\n",
       "      <th>77</th>\n",
       "      <td>Sponsored\\nLayasa\\nSneakers For Women\\n₹479₹99...</td>\n",
       "    </tr>\n",
       "    <tr>\n",
       "      <th>78</th>\n",
       "      <td>asian\\nTarzan-05 White Sneakers,Casuals,Loafer...</td>\n",
       "    </tr>\n",
       "    <tr>\n",
       "      <th>79</th>\n",
       "      <td>PUMA\\nRideric Sneakers For Men\\n₹1,259₹4,49972...</td>\n",
       "    </tr>\n",
       "  </tbody>\n",
       "</table>\n",
       "<p>80 rows × 1 columns</p>\n",
       "</div>"
      ],
      "text/plain": [
       "                                          Description\n",
       "0   Sponsored\\nEgo by NS\\nSneakers For Men\\n₹291₹9...\n",
       "1   Sponsored\\nDeals4you\\nSneakers For Women\\n₹379...\n",
       "2   Bestseller\\nURBANBOX\\nTrending Stylish Casual ...\n",
       "3   Deals4you\\nSneakers For Women\\n₹379₹99962% off...\n",
       "4   RapidBox\\nSneakers For Men\\n₹595₹99940% off\\nF...\n",
       "..                                                ...\n",
       "75  ORICUM\\nOricum Lightweight Sneakers Outdoor Da...\n",
       "76  Sponsored\\nKrors\\nPremium Ankle Length Black D...\n",
       "77  Sponsored\\nLayasa\\nSneakers For Women\\n₹479₹99...\n",
       "78  asian\\nTarzan-05 White Sneakers,Casuals,Loafer...\n",
       "79  PUMA\\nRideric Sneakers For Men\\n₹1,259₹4,49972...\n",
       "\n",
       "[80 rows x 1 columns]"
      ]
     },
     "execution_count": 116,
     "metadata": {},
     "output_type": "execute_result"
    }
   ],
   "source": [
    "import pandas as pd\n",
    "df= pd.DataFrame({'Description':description})\n",
    "df"
   ]
  },
  {
   "cell_type": "markdown",
   "id": "a15dc870",
   "metadata": {},
   "source": [
    "# Q5"
   ]
  },
  {
   "cell_type": "code",
   "execution_count": null,
   "id": "3b65a26b",
   "metadata": {},
   "outputs": [],
   "source": [
    "\n",
    "https://www.amazon.in/ Enter “Laptop” "
   ]
  },
  {
   "cell_type": "code",
   "execution_count": 3,
   "id": "0dbcdb3e",
   "metadata": {},
   "outputs": [],
   "source": [
    "driver=webdriver.Edge()"
   ]
  },
  {
   "cell_type": "code",
   "execution_count": 4,
   "id": "5ca727ee",
   "metadata": {},
   "outputs": [],
   "source": [
    "# opening site\n",
    "driver.get(\"https://www.amazon.in/\")"
   ]
  },
  {
   "cell_type": "code",
   "execution_count": 5,
   "id": "2a781acf",
   "metadata": {},
   "outputs": [],
   "source": [
    "# entering designation  asked by the quastion\n",
    "desig=driver.find_element(By.XPATH,'/html/body/div[1]/header/div/div[1]/div[2]/div/form/div[2]/div[1]/input')\n",
    "desig.send_keys('Laptop')"
   ]
  },
  {
   "cell_type": "code",
   "execution_count": 11,
   "id": "a13bb821",
   "metadata": {},
   "outputs": [],
   "source": [
    "search=driver.find_element(By.XPATH,'//div[@class=\"nav-search-submit nav-sprite\"]')\n",
    "search.click()"
   ]
  },
  {
   "cell_type": "code",
   "execution_count": 12,
   "id": "938d0491",
   "metadata": {},
   "outputs": [],
   "source": [
    "title=[]\n",
    "rating=[]\n",
    "price=[]"
   ]
  },
  {
   "cell_type": "code",
   "execution_count": null,
   "id": "2dec37b5",
   "metadata": {},
   "outputs": [],
   "source": [
    "# scarping job title form the given page\n",
    "title_tags=driver.find_elements(By.XPATH,'[data-cy=\"title-recipe\"]')\n",
    "for i in title_tags:\n",
    "    title=i.text\n",
    "    title.append(title)\n",
    "\n",
    "# scarping rating form the given page\n",
    "rate_tags=driver.find_elements(By.XPATH, '[class=\"a-row a-size-small\"]')\n",
    "for i in rate_tags:\n",
    "    rating=i.text\n",
    "    rating.append(rating)\n",
    "    \n",
    "# scarping price form the given page\n",
    "price_tags=driver.find_elements(By.XPATH,'//span[@class=\"a-price\"]')\n",
    "for i in price_tags:\n",
    "    price_tags=i.text\n",
    "    price.append(price)"
   ]
  },
  {
   "cell_type": "code",
   "execution_count": null,
   "id": "8d9ebbbd",
   "metadata": {},
   "outputs": [],
   "source": [
    "\n"
   ]
  },
  {
   "cell_type": "markdown",
   "id": "0c6fd0ac",
   "metadata": {},
   "source": [
    "# Q6  First get the webpagehttps://www.azquotes.com/\n",
    "2. Click on TopQuote\n",
    "3. Than scrap a)Quote b) Author c) Type Of Quotes\n",
    "\n",
    "Write a python program to scrape data for Top 1000 Quotes of All Time."
   ]
  },
  {
   "cell_type": "code",
   "execution_count": 22,
   "id": "60294831",
   "metadata": {},
   "outputs": [],
   "source": [
    "driver=webdriver.Edge()"
   ]
  },
  {
   "cell_type": "code",
   "execution_count": 23,
   "id": "5dab9178",
   "metadata": {},
   "outputs": [],
   "source": [
    "# opening site\n",
    "driver.get(\"https://www.azquotes.com/\")"
   ]
  },
  {
   "cell_type": "code",
   "execution_count": 25,
   "id": "9147f56e",
   "metadata": {},
   "outputs": [],
   "source": [
    "quote=[]\n",
    "author=[]\n",
    "type_quote=[]"
   ]
  },
  {
   "cell_type": "code",
   "execution_count": null,
   "id": "fd83cf4f",
   "metadata": {},
   "outputs": [],
   "source": [
    "# scarping quote form the given page\n",
    "quote=driver.find_elements(By.XPATH,'//a[@class=\"title\"]')\n",
    "for i in quote_tags:\n",
    "    quote=i.text\n",
    "    quote.append(quote)\n",
    "\n",
    "# scarping author form the given page\n",
    "author_tags=driver.find_elements(By.XPATH, '[class=\"author\"]')\n",
    "for i in author_tags:\n",
    "    author=i.text\n",
    "    author.append(author)\n",
    "    \n",
    "# scarping type of quote form the given page\n",
    "type_quote_tags=driver.find_elements(By.XPATH,'[class=\"tags\"]')\n",
    "for i in type_quote_tags:\n",
    "    type_quote_tags=i.text\n",
    "    type_quote.append(type_quote)"
   ]
  },
  {
   "cell_type": "code",
   "execution_count": null,
   "id": "c6d85d2a",
   "metadata": {},
   "outputs": [],
   "source": [
    "##Q7 https://www.jagranjosh.com/general-knowledge/list-of\u0002all-prime-ministers-of-india-1473165149-1\n",
    "scrap the mentioned data and make the DataFrame\n"
   ]
  },
  {
   "cell_type": "code",
   "execution_count": 32,
   "id": "28a41319",
   "metadata": {},
   "outputs": [],
   "source": [
    "driver=webdriver.Edge()"
   ]
  },
  {
   "cell_type": "code",
   "execution_count": 33,
   "id": "479c1d27",
   "metadata": {},
   "outputs": [],
   "source": [
    "# opening site\n",
    "driver.get(\"https://www.jagranjosh.com/general-knowledge/list-of\u0002all-prime-ministers-of-india-1473165149-1\")"
   ]
  },
  {
   "cell_type": "code",
   "execution_count": null,
   "id": "315a3e5c",
   "metadata": {},
   "outputs": [],
   "source": []
  },
  {
   "cell_type": "code",
   "execution_count": null,
   "id": "8cd6ac60",
   "metadata": {},
   "outputs": [],
   "source": []
  },
  {
   "cell_type": "code",
   "execution_count": null,
   "id": "4cd6f49b",
   "metadata": {},
   "outputs": [],
   "source": [
    "##Q8 Write a python program to display list of 50 Most expensive cars in the world\n",
    "(i.e. Car name and Price) from https://www.motor1.com/)"
   ]
  },
  {
   "cell_type": "code",
   "execution_count": 28,
   "id": "4f471d72",
   "metadata": {},
   "outputs": [],
   "source": [
    "driver=webdriver.Edge()"
   ]
  },
  {
   "cell_type": "code",
   "execution_count": 29,
   "id": "34d43961",
   "metadata": {},
   "outputs": [],
   "source": [
    " driver.get(\"https://www.motor1.com/\")"
   ]
  },
  {
   "cell_type": "code",
   "execution_count": 32,
   "id": "336b1a84",
   "metadata": {},
   "outputs": [],
   "source": [
    "# entering designation  asked by the quastion\n",
    "desig=driver.find_element(By.XPATH,'/html/body/div[9]/div[2]/div/div/div[3]/div/div/div/form/input')\n",
    "desig.send_keys('50 most expensive cars')"
   ]
  },
  {
   "cell_type": "code",
   "execution_count": 33,
   "id": "ce9873a3",
   "metadata": {},
   "outputs": [],
   "source": [
    "search=driver.find_element(By.XPATH,'/html/body/div[9]/div[2]/div/div/div[3]/div/div/div/form/button[1]')\n",
    "search.click()"
   ]
  },
  {
   "cell_type": "code",
   "execution_count": 34,
   "id": "983cb365",
   "metadata": {},
   "outputs": [],
   "source": [
    "car_name=[]\n",
    "car_price=[]"
   ]
  },
  {
   "cell_type": "code",
   "execution_count": 48,
   "id": "816fcb15",
   "metadata": {},
   "outputs": [
    {
     "ename": "AttributeError",
     "evalue": "'str' object has no attribute 'append'",
     "output_type": "error",
     "traceback": [
      "\u001b[1;31m---------------------------------------------------------------------------\u001b[0m",
      "\u001b[1;31mAttributeError\u001b[0m                            Traceback (most recent call last)",
      "Cell \u001b[1;32mIn[48], line 5\u001b[0m\n\u001b[0;32m      3\u001b[0m \u001b[38;5;28;01mfor\u001b[39;00m i \u001b[38;5;129;01min\u001b[39;00m price_tags:\n\u001b[0;32m      4\u001b[0m     price\u001b[38;5;241m=\u001b[39mi\u001b[38;5;241m.\u001b[39mtext\n\u001b[1;32m----> 5\u001b[0m     car_price\u001b[38;5;241m.\u001b[39mappend(car_price)\n",
      "\u001b[1;31mAttributeError\u001b[0m: 'str' object has no attribute 'append'"
     ]
    }
   ],
   "source": [
    "# scarping job loc form the given page\n",
    "price_tags= driver.find_elements(By.XPATH,'/html/body/div[9]/div[7]/div[2]/div[1]/div[2]/div[2]/p[86]')[:50]\n",
    "for i in price_tags:\n",
    "    price=i.text\n",
    "    car_price.append(car_price)"
   ]
  },
  {
   "cell_type": "code",
   "execution_count": 53,
   "id": "772c524e",
   "metadata": {},
   "outputs": [],
   "source": [
    "# scarping job title form the given page\n",
    "name_tags=driver.find_elements(By.XPATH,'//h3[@class=\"subheader\"]')[:50]\n",
    "for i in name_tags:\n",
    "    name=i.text\n",
    "    car_name.append(car_name)\n"
   ]
  },
  {
   "cell_type": "code",
   "execution_count": 51,
   "id": "2da42ff4",
   "metadata": {},
   "outputs": [],
   "source": [
    "price_tags=driver.find_elements(By.XPATH,'/html/body/div[9]/div[7]/div[2]/div[1]/div[2]/div[2]/p[86]')[:50]\n"
   ]
  },
  {
   "cell_type": "code",
   "execution_count": 54,
   "id": "f8230345",
   "metadata": {},
   "outputs": [
    {
     "name": "stdout",
     "output_type": "stream",
     "text": [
      "401 19\n"
     ]
    }
   ],
   "source": [
    "print(len(car_name),len(car_price))"
   ]
  },
  {
   "cell_type": "code",
   "execution_count": null,
   "id": "f740850f",
   "metadata": {},
   "outputs": [],
   "source": [
    "import pandas as pd\n",
    "df= pd.DataFrame({'Name': car_name,'Price':car_price})\n",
    "df"
   ]
  }
 ],
 "metadata": {
  "kernelspec": {
   "display_name": "Python 3 (ipykernel)",
   "language": "python",
   "name": "python3"
  },
  "language_info": {
   "codemirror_mode": {
    "name": "ipython",
    "version": 3
   },
   "file_extension": ".py",
   "mimetype": "text/x-python",
   "name": "python",
   "nbconvert_exporter": "python",
   "pygments_lexer": "ipython3",
   "version": "3.11.4"
  }
 },
 "nbformat": 4,
 "nbformat_minor": 5
}
